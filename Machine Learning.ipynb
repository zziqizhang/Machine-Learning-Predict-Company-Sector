{
 "cells": [
  {
   "cell_type": "markdown",
   "metadata": {},
   "source": [
    "# A3\n",
    "Ziqi Zhang"
   ]
  },
  {
   "cell_type": "markdown",
   "metadata": {},
   "source": [
    "## Read training and testing file, then clean their body text"
   ]
  },
  {
   "cell_type": "code",
   "execution_count": 33,
   "metadata": {},
   "outputs": [],
   "source": [
    "import pandas as pd\n",
    "df_train = pd.read_csv(\"10k_filings_train.csv\")"
   ]
  },
  {
   "cell_type": "code",
   "execution_count": 34,
   "metadata": {},
   "outputs": [
    {
     "name": "stderr",
     "output_type": "stream",
     "text": [
      "[nltk_data] Downloading package stopwords to\n",
      "[nltk_data]     C:\\Users\\tonyz\\AppData\\Roaming\\nltk_data...\n",
      "[nltk_data]   Package stopwords is already up-to-date!\n"
     ]
    }
   ],
   "source": [
    "import nltk\n",
    "from nltk.corpus import stopwords\n",
    "nltk.download('stopwords')\n",
    "stopwords_set = set(stopwords.words('english'))"
   ]
  },
  {
   "cell_type": "code",
   "execution_count": 35,
   "metadata": {},
   "outputs": [],
   "source": [
    "import re\n",
    "from bs4 import BeautifulSoup\n",
    "WORD_RE = re.compile(r\"\\b[a-z]\\w+\\b\")\n",
    "def clean10k_text(text):\n",
    "  # Some of the body still contains HTML\n",
    "  soup = BeautifulSoup(text)\n",
    "  text = soup.get_text(\" \")\n",
    "  # Lowercase\n",
    "  text = text.lower()\n",
    "  # Tokenize\n",
    "  text = WORD_RE.findall(text)\n",
    "  # Remove stopwords\n",
    "  cleaned_text = [w for w in text if w not in stopwords_set]\n",
    "  return \" \".join(cleaned_text)\n",
    "\n",
    "df_train[\"cleaned_body\"] = df_train[\"body\"].map(clean10k_text)"
   ]
  },
  {
   "cell_type": "code",
   "execution_count": 119,
   "metadata": {},
   "outputs": [],
   "source": [
    "#Embedding\n",
    "import gensim.downloader\n",
    "glove_vectors = gensim.downloader.load(\"glove-wiki-gigaword-300\")"
   ]
  },
  {
   "cell_type": "code",
   "execution_count": 120,
   "metadata": {},
   "outputs": [],
   "source": [
    "import numpy as np\n",
    "def average_embeddings(document_text):\n",
    "  embeddings = []\n",
    "  for word in document_text.split():\n",
    "    if word in glove_vectors:\n",
    "      embeddings.append(glove_vectors[word])\n",
    "  if len(embeddings) == 0:\n",
    "    return np.zeros((1, 300))\n",
    "  embeddings = np.array(embeddings)\n",
    "  return np.average(embeddings, axis=0).reshape(1, -1)\n",
    "\n",
    "glove_doc_embeddings = []\n",
    "for i, row in df_train.iterrows():\n",
    "  doc_embed = average_embeddings(row.cleaned_body)\n",
    "  glove_doc_embeddings.append(doc_embed)\n",
    "\n",
    "glove_doc_embeddings = np.array(glove_doc_embeddings).squeeze()\n",
    "\n",
    "test_df=pd.read_csv(\"10k_filings_test_wo_labels.csv\")\n",
    "test_df[\"cleaned_body\"] = test_df[\"body\"].map(clean10k_text)\n",
    "test_doc_embeddings = []\n",
    "for i, row in test_df.iterrows():\n",
    "  doc_embed = average_embeddings(row.cleaned_body)\n",
    "  test_doc_embeddings.append(doc_embed)\n",
    "\n",
    "test_doc_embeddings = np.array(test_doc_embeddings).squeeze()"
   ]
  },
  {
   "cell_type": "markdown",
   "metadata": {},
   "source": [
    "## Naive Bayes"
   ]
  },
  {
   "cell_type": "code",
   "execution_count": 109,
   "metadata": {},
   "outputs": [],
   "source": [
    "from sklearn.feature_extraction.text import CountVectorizer\n",
    "from sklearn.naive_bayes import GaussianNB\n",
    "from sklearn.pipeline import Pipeline\n",
    "from sklearn.preprocessing import FunctionTransformer\n",
    "pipe = Pipeline([('tfid',TfidfVectorizer(tokenizer=str.split,min_df=5)), ('toarray',FunctionTransformer(lambda tfid: tfid.toarray())),('gnb',GaussianNB())])"
   ]
  },
  {
   "cell_type": "code",
   "execution_count": 121,
   "metadata": {},
   "outputs": [
    {
     "name": "stdout",
     "output_type": "stream",
     "text": [
      "Avg train score: 0.99\tAvg test score: 0.65\n"
     ]
    }
   ],
   "source": [
    "from sklearn.model_selection import cross_validate\n",
    "X=df_train[\"cleaned_body\"]\n",
    "y=df_train.label\n",
    "pipe.fit(X, y).predict(X)\n",
    "cv_results = cross_validate(pipe, X=X, y=y, scoring=\"f1_micro\", return_train_score=True)\n",
    "print(f\"Avg train score: {np.average(cv_results['train_score']):.2}\\tAvg test score: {np.average(cv_results['test_score']):.2}\")"
   ]
  },
  {
   "cell_type": "code",
   "execution_count": 123,
   "metadata": {},
   "outputs": [
    {
     "name": "stdout",
     "output_type": "stream",
     "text": [
      "Avg train score: 0.67\tAvg test score: 0.65\n"
     ]
    }
   ],
   "source": [
    "X2=glove_doc_embeddings\n",
    "GNB=GaussianNB()\n",
    "GNB.fit(X2,y).predict(X2)\n",
    "cv_results = cross_validate(GNB, X=X2, y=y, scoring=\"f1_micro\", return_train_score=True)\n",
    "print(f\"Avg train score: {np.average(cv_results['train_score']):.2}\\tAvg test score: {np.average(cv_results['test_score']):.2}\")"
   ]
  },
  {
   "cell_type": "code",
   "execution_count": 124,
   "metadata": {},
   "outputs": [
    {
     "data": {
      "text/html": [
       "<div>\n",
       "<style scoped>\n",
       "    .dataframe tbody tr th:only-of-type {\n",
       "        vertical-align: middle;\n",
       "    }\n",
       "\n",
       "    .dataframe tbody tr th {\n",
       "        vertical-align: top;\n",
       "    }\n",
       "\n",
       "    .dataframe thead th {\n",
       "        text-align: right;\n",
       "    }\n",
       "</style>\n",
       "<table border=\"1\" class=\"dataframe\">\n",
       "  <thead>\n",
       "    <tr style=\"text-align: right;\">\n",
       "      <th></th>\n",
       "      <th>id</th>\n",
       "      <th>prediction_labels</th>\n",
       "    </tr>\n",
       "  </thead>\n",
       "  <tbody>\n",
       "    <tr>\n",
       "      <th>0</th>\n",
       "      <td>935036-2017-1</td>\n",
       "      <td>Services</td>\n",
       "    </tr>\n",
       "    <tr>\n",
       "      <th>1</th>\n",
       "      <td>1435049-2017-1</td>\n",
       "      <td>Manufacturing</td>\n",
       "    </tr>\n",
       "    <tr>\n",
       "      <th>2</th>\n",
       "      <td>1158449-2017-1</td>\n",
       "      <td>Retail Trade</td>\n",
       "    </tr>\n",
       "    <tr>\n",
       "      <th>3</th>\n",
       "      <td>849706-2017-1</td>\n",
       "      <td>Wholesale Trade</td>\n",
       "    </tr>\n",
       "    <tr>\n",
       "      <th>4</th>\n",
       "      <td>105608-2017-1</td>\n",
       "      <td>Wholesale Trade</td>\n",
       "    </tr>\n",
       "    <tr>\n",
       "      <th>...</th>\n",
       "      <td>...</td>\n",
       "      <td>...</td>\n",
       "    </tr>\n",
       "    <tr>\n",
       "      <th>756</th>\n",
       "      <td>1675634-2017-4</td>\n",
       "      <td>Services</td>\n",
       "    </tr>\n",
       "    <tr>\n",
       "      <th>757</th>\n",
       "      <td>1614556-2017-4</td>\n",
       "      <td>Finance, Insurance, And Real Estate</td>\n",
       "    </tr>\n",
       "    <tr>\n",
       "      <th>758</th>\n",
       "      <td>1557798-2017-4</td>\n",
       "      <td>Finance, Insurance, And Real Estate</td>\n",
       "    </tr>\n",
       "    <tr>\n",
       "      <th>759</th>\n",
       "      <td>1564709-2017-4</td>\n",
       "      <td>Retail Trade</td>\n",
       "    </tr>\n",
       "    <tr>\n",
       "      <th>760</th>\n",
       "      <td>1312073-2017-4</td>\n",
       "      <td>Services</td>\n",
       "    </tr>\n",
       "  </tbody>\n",
       "</table>\n",
       "<p>761 rows × 2 columns</p>\n",
       "</div>"
      ],
      "text/plain": [
       "                 id                    prediction_labels\n",
       "0     935036-2017-1                             Services\n",
       "1    1435049-2017-1                        Manufacturing\n",
       "2    1158449-2017-1                         Retail Trade\n",
       "3     849706-2017-1                      Wholesale Trade\n",
       "4     105608-2017-1                      Wholesale Trade\n",
       "..              ...                                  ...\n",
       "756  1675634-2017-4                             Services\n",
       "757  1614556-2017-4  Finance, Insurance, And Real Estate\n",
       "758  1557798-2017-4  Finance, Insurance, And Real Estate\n",
       "759  1564709-2017-4                         Retail Trade\n",
       "760  1312073-2017-4                             Services\n",
       "\n",
       "[761 rows x 2 columns]"
      ]
     },
     "execution_count": 124,
     "metadata": {},
     "output_type": "execute_result"
    }
   ],
   "source": [
    "df_test[\"prediction_labels\"]=GNB.predict(test_doc_embeddings)\n",
    "df_out=df_test[[\"id\",\"prediction_labels\"]]\n",
    "df_out.to_csv('naive_bayes_pred_zzhan178.csv',index=False)\n",
    "df_out"
   ]
  },
  {
   "cell_type": "markdown",
   "metadata": {},
   "source": [
    "## Logistic Regression"
   ]
  },
  {
   "cell_type": "code",
   "execution_count": 127,
   "metadata": {},
   "outputs": [
    {
     "name": "stdout",
     "output_type": "stream",
     "text": [
      "Avg train score: 0.87\tAvg test score: 0.8\n"
     ]
    }
   ],
   "source": [
    "from sklearn.linear_model import LogisticRegression\n",
    "pipe2 = Pipeline([('tfid',TfidfVectorizer(tokenizer=str.split,min_df=5)), ('toarray',FunctionTransformer(lambda tfid: tfid.toarray())), ('clf', LogisticRegression())])\n",
    "pipe2.fit(X, y).predict(X)\n",
    "cv_results = cross_validate(pipe2, X=X, y=y, scoring=\"f1_micro\", return_train_score=True)\n",
    "print(f\"Avg train score: {np.average(cv_results['train_score']):.2}\\tAvg test score: {np.average(cv_results['test_score']):.2}\")"
   ]
  },
  {
   "cell_type": "code",
   "execution_count": 129,
   "metadata": {},
   "outputs": [
    {
     "name": "stdout",
     "output_type": "stream",
     "text": [
      "Avg train score: 0.81\tAvg test score: 0.79\n"
     ]
    }
   ],
   "source": [
    "LR = LogisticRegression(random_state=0,max_iter=10000,multi_class=\"multinomial\")\n",
    "LR.fit(X2, y).predict(X2)\n",
    "cv_results = cross_validate(LR, X=X2, y=y, scoring=\"f1_micro\", return_train_score=True)\n",
    "print(f\"Avg train score: {np.average(cv_results['train_score']):.2}\\tAvg test score: {np.average(cv_results['test_score']):.2}\")"
   ]
  },
  {
   "cell_type": "code",
   "execution_count": 133,
   "metadata": {},
   "outputs": [
    {
     "data": {
      "text/html": [
       "<div>\n",
       "<style scoped>\n",
       "    .dataframe tbody tr th:only-of-type {\n",
       "        vertical-align: middle;\n",
       "    }\n",
       "\n",
       "    .dataframe tbody tr th {\n",
       "        vertical-align: top;\n",
       "    }\n",
       "\n",
       "    .dataframe thead th {\n",
       "        text-align: right;\n",
       "    }\n",
       "</style>\n",
       "<table border=\"1\" class=\"dataframe\">\n",
       "  <thead>\n",
       "    <tr style=\"text-align: right;\">\n",
       "      <th></th>\n",
       "      <th>id</th>\n",
       "      <th>prediction_labels</th>\n",
       "    </tr>\n",
       "  </thead>\n",
       "  <tbody>\n",
       "    <tr>\n",
       "      <th>0</th>\n",
       "      <td>935036-2017-1</td>\n",
       "      <td>Services</td>\n",
       "    </tr>\n",
       "    <tr>\n",
       "      <th>1</th>\n",
       "      <td>1435049-2017-1</td>\n",
       "      <td>Manufacturing</td>\n",
       "    </tr>\n",
       "    <tr>\n",
       "      <th>2</th>\n",
       "      <td>1158449-2017-1</td>\n",
       "      <td>Retail Trade</td>\n",
       "    </tr>\n",
       "    <tr>\n",
       "      <th>3</th>\n",
       "      <td>849706-2017-1</td>\n",
       "      <td>Manufacturing</td>\n",
       "    </tr>\n",
       "    <tr>\n",
       "      <th>4</th>\n",
       "      <td>105608-2017-1</td>\n",
       "      <td>Manufacturing</td>\n",
       "    </tr>\n",
       "    <tr>\n",
       "      <th>...</th>\n",
       "      <td>...</td>\n",
       "      <td>...</td>\n",
       "    </tr>\n",
       "    <tr>\n",
       "      <th>756</th>\n",
       "      <td>1675634-2017-4</td>\n",
       "      <td>Services</td>\n",
       "    </tr>\n",
       "    <tr>\n",
       "      <th>757</th>\n",
       "      <td>1614556-2017-4</td>\n",
       "      <td>Services</td>\n",
       "    </tr>\n",
       "    <tr>\n",
       "      <th>758</th>\n",
       "      <td>1557798-2017-4</td>\n",
       "      <td>Services</td>\n",
       "    </tr>\n",
       "    <tr>\n",
       "      <th>759</th>\n",
       "      <td>1564709-2017-4</td>\n",
       "      <td>Manufacturing</td>\n",
       "    </tr>\n",
       "    <tr>\n",
       "      <th>760</th>\n",
       "      <td>1312073-2017-4</td>\n",
       "      <td>Services</td>\n",
       "    </tr>\n",
       "  </tbody>\n",
       "</table>\n",
       "<p>761 rows × 2 columns</p>\n",
       "</div>"
      ],
      "text/plain": [
       "                 id prediction_labels\n",
       "0     935036-2017-1          Services\n",
       "1    1435049-2017-1     Manufacturing\n",
       "2    1158449-2017-1      Retail Trade\n",
       "3     849706-2017-1     Manufacturing\n",
       "4     105608-2017-1     Manufacturing\n",
       "..              ...               ...\n",
       "756  1675634-2017-4          Services\n",
       "757  1614556-2017-4          Services\n",
       "758  1557798-2017-4          Services\n",
       "759  1564709-2017-4     Manufacturing\n",
       "760  1312073-2017-4          Services\n",
       "\n",
       "[761 rows x 2 columns]"
      ]
     },
     "execution_count": 133,
     "metadata": {},
     "output_type": "execute_result"
    }
   ],
   "source": [
    "df_test[\"prediction_labels\"]=LR.predict(test_doc_embeddings)\n",
    "df_out=df_test[[\"id\",\"prediction_labels\"]]\n",
    "df_out.to_csv('logistic_pred_zzhan178.csv',index=False)\n",
    "df_out"
   ]
  },
  {
   "cell_type": "code",
   "execution_count": null,
   "metadata": {},
   "outputs": [],
   "source": []
  }
 ],
 "metadata": {
  "kernelspec": {
   "display_name": "Python 3",
   "language": "python",
   "name": "python3"
  },
  "language_info": {
   "codemirror_mode": {
    "name": "ipython",
    "version": 3
   },
   "file_extension": ".py",
   "mimetype": "text/x-python",
   "name": "python",
   "nbconvert_exporter": "python",
   "pygments_lexer": "ipython3",
   "version": "3.8.5"
  }
 },
 "nbformat": 4,
 "nbformat_minor": 4
}
